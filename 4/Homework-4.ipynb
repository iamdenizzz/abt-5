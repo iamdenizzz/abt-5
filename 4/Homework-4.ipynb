{
 "cells": [
  {
   "cell_type": "code",
   "execution_count": 2,
   "metadata": {
    "scrolled": true
   },
   "outputs": [
    {
     "data": {
      "text/html": [
       "<div>\n",
       "<style scoped>\n",
       "    .dataframe tbody tr th:only-of-type {\n",
       "        vertical-align: middle;\n",
       "    }\n",
       "\n",
       "    .dataframe tbody tr th {\n",
       "        vertical-align: top;\n",
       "    }\n",
       "\n",
       "    .dataframe thead th {\n",
       "        text-align: right;\n",
       "    }\n",
       "</style>\n",
       "<table border=\"1\" class=\"dataframe\">\n",
       "  <thead>\n",
       "    <tr style=\"text-align: right;\">\n",
       "      <th></th>\n",
       "      <th>id</th>\n",
       "      <th>date</th>\n",
       "      <th>user_id</th>\n",
       "      <th>hour</th>\n",
       "      <th>app_opened</th>\n",
       "      <th>price_seen</th>\n",
       "      <th>order_made</th>\n",
       "      <th>surge</th>\n",
       "      <th>ride_completed</th>\n",
       "      <th>user_cancelled</th>\n",
       "      <th>age</th>\n",
       "      <th>os</th>\n",
       "      <th>city_center_order</th>\n",
       "      <th>order_class</th>\n",
       "      <th>distance</th>\n",
       "      <th>rfm</th>\n",
       "    </tr>\n",
       "  </thead>\n",
       "  <tbody>\n",
       "    <tr>\n",
       "      <th>0</th>\n",
       "      <td>0</td>\n",
       "      <td>2020-05-21</td>\n",
       "      <td>867689</td>\n",
       "      <td>12</td>\n",
       "      <td>1</td>\n",
       "      <td>1</td>\n",
       "      <td>1</td>\n",
       "      <td>no surge</td>\n",
       "      <td>1</td>\n",
       "      <td>0</td>\n",
       "      <td>20</td>\n",
       "      <td>iOS</td>\n",
       "      <td>0</td>\n",
       "      <td>business</td>\n",
       "      <td>7.982135</td>\n",
       "      <td>low</td>\n",
       "    </tr>\n",
       "    <tr>\n",
       "      <th>1</th>\n",
       "      <td>1</td>\n",
       "      <td>2020-05-23</td>\n",
       "      <td>752172</td>\n",
       "      <td>5</td>\n",
       "      <td>1</td>\n",
       "      <td>1</td>\n",
       "      <td>1</td>\n",
       "      <td>no surge</td>\n",
       "      <td>1</td>\n",
       "      <td>0</td>\n",
       "      <td>37</td>\n",
       "      <td>Android</td>\n",
       "      <td>1</td>\n",
       "      <td>economy</td>\n",
       "      <td>2.908468</td>\n",
       "      <td>high</td>\n",
       "    </tr>\n",
       "    <tr>\n",
       "      <th>2</th>\n",
       "      <td>2</td>\n",
       "      <td>2020-05-20</td>\n",
       "      <td>486559</td>\n",
       "      <td>15</td>\n",
       "      <td>1</td>\n",
       "      <td>1</td>\n",
       "      <td>1</td>\n",
       "      <td>no surge</td>\n",
       "      <td>1</td>\n",
       "      <td>0</td>\n",
       "      <td>47</td>\n",
       "      <td>Android</td>\n",
       "      <td>0</td>\n",
       "      <td>comfort</td>\n",
       "      <td>7.224614</td>\n",
       "      <td>low</td>\n",
       "    </tr>\n",
       "    <tr>\n",
       "      <th>3</th>\n",
       "      <td>3</td>\n",
       "      <td>2020-05-19</td>\n",
       "      <td>304024</td>\n",
       "      <td>0</td>\n",
       "      <td>1</td>\n",
       "      <td>1</td>\n",
       "      <td>1</td>\n",
       "      <td>no surge</td>\n",
       "      <td>1</td>\n",
       "      <td>0</td>\n",
       "      <td>59</td>\n",
       "      <td>Android</td>\n",
       "      <td>1</td>\n",
       "      <td>economy</td>\n",
       "      <td>1.874349</td>\n",
       "      <td>low</td>\n",
       "    </tr>\n",
       "    <tr>\n",
       "      <th>4</th>\n",
       "      <td>4</td>\n",
       "      <td>2020-05-23</td>\n",
       "      <td>139420</td>\n",
       "      <td>0</td>\n",
       "      <td>1</td>\n",
       "      <td>1</td>\n",
       "      <td>1</td>\n",
       "      <td>no surge</td>\n",
       "      <td>1</td>\n",
       "      <td>0</td>\n",
       "      <td>19</td>\n",
       "      <td>Android</td>\n",
       "      <td>0</td>\n",
       "      <td>business</td>\n",
       "      <td>10.704778</td>\n",
       "      <td>medium</td>\n",
       "    </tr>\n",
       "  </tbody>\n",
       "</table>\n",
       "</div>"
      ],
      "text/plain": [
       "   id        date  user_id  hour  app_opened  price_seen  order_made  \\\n",
       "0   0  2020-05-21   867689    12           1           1           1   \n",
       "1   1  2020-05-23   752172     5           1           1           1   \n",
       "2   2  2020-05-20   486559    15           1           1           1   \n",
       "3   3  2020-05-19   304024     0           1           1           1   \n",
       "4   4  2020-05-23   139420     0           1           1           1   \n",
       "\n",
       "      surge  ride_completed  user_cancelled  age       os  city_center_order  \\\n",
       "0  no surge               1               0   20      iOS                  0   \n",
       "1  no surge               1               0   37  Android                  1   \n",
       "2  no surge               1               0   47  Android                  0   \n",
       "3  no surge               1               0   59  Android                  1   \n",
       "4  no surge               1               0   19  Android                  0   \n",
       "\n",
       "  order_class   distance     rfm  \n",
       "0    business   7.982135     low  \n",
       "1     economy   2.908468    high  \n",
       "2     comfort   7.224614     low  \n",
       "3     economy   1.874349     low  \n",
       "4    business  10.704778  medium  "
      ]
     },
     "execution_count": 2,
     "metadata": {},
     "output_type": "execute_result"
    }
   ],
   "source": [
    "import pandas as pd\n",
    "import numpy as np\n",
    "import matplotlib.pyplot as plt\n",
    "pd.options.mode.chained_assignment = None\n",
    "\n",
    "# Загрузка данных\n",
    "url=\"Netology_A_B-testing_HW_1.csv\"\n",
    "data=pd.read_csv(url, names=['id','date','user_id','hour','app_opened','price_seen','order_made','surge','ride_completed',\\\n",
    "                             'user_cancelled','age','os','city_center_order','order_class','distance','rfm'],\n",
    "                skiprows=1)\n",
    "data.head()"
   ]
  },
  {
   "cell_type": "markdown",
   "metadata": {},
   "source": [
    "Выберем следующие особенности и придумаем для них А/Б тест:\n",
    "- Android => более высокие юзерские отмены\n",
    "- Comfort & Business классы => более низкие юзерские отмены, более длинные поездки"
   ]
  },
  {
   "cell_type": "code",
   "execution_count": null,
   "metadata": {},
   "outputs": [],
   "source": [
    "res1 = {}\n",
    "res2= {}\n",
    "res3 = {}"
   ]
  },
  {
   "cell_type": "code",
   "execution_count": 142,
   "metadata": {
    "scrolled": true
   },
   "outputs": [
    {
     "name": "stdout",
     "output_type": "stream",
     "text": [
      "Android = 7353 , iOS = 3916\n"
     ]
    }
   ],
   "source": [
    "res1['Android'] = data[(data['os']=='Android') & (data['user_cancelled']==1)]['os'].count()\n",
    "res1['iOS'] = data[(data['os']=='iOS') & (data['user_cancelled']==1)]['os'].count()\n",
    "print ('Android =',res1['Android'], ', iOS =', res1['iOS'])"
   ]
  },
  {
   "cell_type": "code",
   "execution_count": 143,
   "metadata": {},
   "outputs": [
    {
     "name": "stdout",
     "output_type": "stream",
     "text": [
      "business = 1011 , comfort = 4049 , economy = 6209\n"
     ]
    }
   ],
   "source": [
    "res2['business'] = data[(data['order_class']=='business') & (data['user_cancelled']==1)]['order_class'].count()\n",
    "res2['comfort'] = data[(data['order_class']=='comfort') & (data['user_cancelled']==1)]['order_class'].count()\n",
    "res2['economy'] = data[(data['order_class']=='economy') & (data['user_cancelled']==1)]['order_class'].count()\n",
    "print ('business =',res2['business'], ', comfort =', res2['comfort'], ', economy =', res2['economy'])"
   ]
  },
  {
   "cell_type": "code",
   "execution_count": 146,
   "metadata": {},
   "outputs": [
    {
     "name": "stdout",
     "output_type": "stream",
     "text": [
      "business = 128.0 , comfort = 47.0 , economy = 27.0\n"
     ]
    }
   ],
   "source": [
    "res3['business'] = data[(data['order_class']=='business')]['distance'].sum()\n",
    "res3['comfort'] = data[(data['order_class']=='comfort')]['distance'].sum()\n",
    "res3['economy'] = data[(data['order_class']=='economy')]['distance'].sum()\n",
    "print ('business =',(res3['business']/res2['business']).round(),\n",
    "       ', comfort =', (res3['comfort']/res2['comfort']).round(),\n",
    "       ', economy =', (res3['economy']/res2['economy']).round())"
   ]
  },
  {
   "cell_type": "markdown",
   "metadata": {},
   "source": [
    "Как можно увидеть выше на основе выборок, данные гипотезы верны:\n",
    "- Пользователи с ОС Android чаще, чем пользователи iOS отменяют поездки;\n",
    "- Пользователи Бизнесс класса и Комфорта реже отменяют поездки и делают более длинные поездки"
   ]
  },
  {
   "cell_type": "code",
   "execution_count": null,
   "metadata": {},
   "outputs": [],
   "source": []
  }
 ],
 "metadata": {
  "kernelspec": {
   "display_name": "Python 3",
   "language": "python",
   "name": "python3"
  },
  "language_info": {
   "codemirror_mode": {
    "name": "ipython",
    "version": 3
   },
   "file_extension": ".py",
   "mimetype": "text/x-python",
   "name": "python",
   "nbconvert_exporter": "python",
   "pygments_lexer": "ipython3",
   "version": "3.7.6"
  }
 },
 "nbformat": 4,
 "nbformat_minor": 4
}
